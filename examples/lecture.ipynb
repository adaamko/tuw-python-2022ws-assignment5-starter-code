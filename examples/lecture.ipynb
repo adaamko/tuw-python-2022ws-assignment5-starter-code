{
 "cells": [
  {
   "cell_type": "markdown",
   "metadata": {},
   "source": [
    "# Programming in Python - Python common modules, software architecture in Python\n",
    "## Lecture 5\n",
    "### September 29, 2022\n",
    "### Adam Kovacs, TU Wien"
   ]
  },
  {
   "cell_type": "markdown",
   "metadata": {},
   "source": [
    "Today's lecture will cover the following topics:\n",
    "- handling graphs in python - the __networkx__ module\n",
    "- matching strings - the __re__ module\n",
    "- serialization - the __json__ module\n",
    "- some commonly used modules like __itertools__ and __collections__\n",
    "- we will learn how to implement a simple software architecture in python separating logic from the user interface\n",
    "    - implementing a _backend_ application with the __flask__ module\n",
    "    - implementing a _frontend_ application with the __streamlit__ module\n",
    "        - __streamlit__ is one of the most widely used frontend application in python in data science (for demonstration purposes)"
   ]
  },
  {
   "cell_type": "markdown",
   "metadata": {},
   "source": [
    "## Serialization, the __json__ module"
   ]
  },
  {
   "cell_type": "code",
   "execution_count": null,
   "metadata": {},
   "outputs": [],
   "source": [
    "import json\n",
    "\n",
    "with open(\"../data/character_aliases.json\") as f:\n",
    "    characters = json.load(f)"
   ]
  },
  {
   "cell_type": "code",
   "execution_count": null,
   "metadata": {},
   "outputs": [],
   "source": [
    "first_book_lines = []\n",
    "\n",
    "with open('../data/001ssb_line.txt') as f:\n",
    "    for line in f:\n",
    "        first_book_lines.append(line.strip())"
   ]
  },
  {
   "cell_type": "markdown",
   "metadata": {},
   "source": [
    "## NetworkX"
   ]
  },
  {
   "cell_type": "markdown",
   "metadata": {},
   "source": [
    "- The documentation: https://networkx.org/\n",
    "- Networkx is a package for handling all kinds of graphs in python\n",
    "- It is a very powerful package with lots of implemented [algorithms](https://networkx.org/documentation/stable/reference/algorithms/index.html) completely open source\n",
    "- E.g. you can look up how the Dijsktra algorithm is implemented: https://networkx.org/documentation/stable/_modules/networkx/algorithms/shortest_paths/weighted.html#dijkstra_path\n"
   ]
  },
  {
   "cell_type": "code",
   "execution_count": null,
   "metadata": {},
   "outputs": [],
   "source": [
    "# Import networkx\n",
    "import networkx as nx\n",
    "\n",
    "# Define an empty graph\n",
    "G = nx.Graph()"
   ]
  },
  {
   "cell_type": "code",
   "execution_count": null,
   "metadata": {},
   "outputs": [],
   "source": [
    "G.add_nodes_from([\n",
    "    \"Jon Snow\",\n",
    "    \"Arya Stark\",\n",
    "    \"Sansa Stark\",\n",
    "    \"Robb Stark\",\n",
    "    \"Robert Baratheon\",\n",
    "    \"Joffrey Baratheon\",\n",
    "    \"Cersei Lannister\",\n",
    "    \"Tyrion Lannister\",\n",
    "    \"Jaime Lannister\",\n",
    "    \"Danerys Targaryen\",\n",
    "    \"Viserys Targaryen\",\n",
    "    \"Khal Drogo\",\n",
    "])"
   ]
  },
  {
   "cell_type": "code",
   "execution_count": null,
   "metadata": {},
   "outputs": [],
   "source": [
    "G.add_node(\"Eddard Stark\", color=\"red\")"
   ]
  },
  {
   "cell_type": "code",
   "execution_count": null,
   "metadata": {},
   "outputs": [],
   "source": [
    "G.add_edges_from([\n",
    "    (\"Jon Snow\", \"Arya Stark\", {\"weight\": 2}),\n",
    "    (\"Jon Snow\", \"Sansa Stark\", {\"weight\": 3}),\n",
    "    (\"Jon Snow\", \"Robb Stark\", {\"weight\": 5}),\n",
    "    (\"Jon Snow\", \"Eddard Stark\", {\"weight\": 8}),\n",
    "    (\"Jon Snow\", \"Robert Baratheon\", {\"weight\": 13}),\n",
    "    (\"Jon Snow\", \"Joffrey Baratheon\", {\"weight\": 21}),\n",
    "    (\"Jon Snow\", \"Cersei Lannister\", {\"weight\": 34}),\n",
    "    (\"Jaime Lannister\", \"Cersei Lannister\", {\"weight\": 5}),\n",
    "    (\"Jaime Lannister\", \"Tyrion Lannister\", {\"weight\": 9}),\n",
    "    (\"Jaime Lannister\", \"Joffrey Baratheon\", {\"weight\": 14}),\n",
    "    (\"Danerys Targaryen\", \"Viserys Targaryen\", {\"weight\": 23}),\n",
    "    (\"Danerys Targaryen\", \"Khal Drogo\", {\"weight\": 7}),\n",
    "    (\"Danerys Targaryen\", \"Joffrey Baratheon\", {\"weight\": 11}),\n",
    "])"
   ]
  },
  {
   "cell_type": "code",
   "execution_count": null,
   "metadata": {},
   "outputs": [],
   "source": [
    "G.add_edge(\"Jon Snow\", \"Daenerys Targaryen\", weight=8)"
   ]
  },
  {
   "cell_type": "code",
   "execution_count": null,
   "metadata": {},
   "outputs": [],
   "source": [
    "G.nodes"
   ]
  },
  {
   "cell_type": "code",
   "execution_count": null,
   "metadata": {},
   "outputs": [],
   "source": [
    "G.nodes(data=True)"
   ]
  },
  {
   "cell_type": "code",
   "execution_count": null,
   "metadata": {},
   "outputs": [],
   "source": [
    "G.edges(data=True)"
   ]
  },
  {
   "cell_type": "code",
   "execution_count": null,
   "metadata": {},
   "outputs": [],
   "source": [
    "G.edges[\"Jon Snow\", \"Arya Stark\"][\"weight\"] = 3"
   ]
  },
  {
   "cell_type": "code",
   "execution_count": null,
   "metadata": {},
   "outputs": [],
   "source": [
    "G.edges(data=True)"
   ]
  },
  {
   "cell_type": "code",
   "execution_count": null,
   "metadata": {},
   "outputs": [],
   "source": [
    "subgraph = G.subgraph([\"Jon Snow\", \"Arya Stark\", \"Sansa Stark\", \"Robb Stark\"])"
   ]
  },
  {
   "cell_type": "code",
   "execution_count": null,
   "metadata": {},
   "outputs": [],
   "source": [
    "subgraph.edges(data=True)"
   ]
  },
  {
   "cell_type": "code",
   "execution_count": null,
   "metadata": {},
   "outputs": [],
   "source": [
    "path_from_jon_to_khal = nx.shortest_path(G, \"Jon Snow\", \"Khal Drogo\")"
   ]
  },
  {
   "cell_type": "code",
   "execution_count": null,
   "metadata": {},
   "outputs": [],
   "source": [
    "path_from_jon_to_khal"
   ]
  },
  {
   "cell_type": "code",
   "execution_count": null,
   "metadata": {},
   "outputs": [],
   "source": [
    "import matplotlib.pyplot as plt"
   ]
  },
  {
   "cell_type": "code",
   "execution_count": null,
   "metadata": {},
   "outputs": [],
   "source": [
    "plt.figure(3,figsize=(12,12)) \n",
    "nx.draw(G, with_labels=True, node_color=\"skyblue\", node_size=1500, alpha=0.5, linewidths=40)\n",
    "plt.show()"
   ]
  },
  {
   "cell_type": "markdown",
   "metadata": {},
   "source": [
    "## Regular Expressions, the __re__ module"
   ]
  },
  {
   "cell_type": "code",
   "execution_count": null,
   "metadata": {},
   "outputs": [],
   "source": [
    "import re\n",
    "from collections import Counter"
   ]
  },
  {
   "cell_type": "code",
   "execution_count": null,
   "metadata": {},
   "outputs": [],
   "source": [
    "text = \" \".join(first_book_lines[:1000])"
   ]
  },
  {
   "cell_type": "code",
   "execution_count": null,
   "metadata": {},
   "outputs": [],
   "source": [
    "re.search('Jon', text)"
   ]
  },
  {
   "cell_type": "code",
   "execution_count": null,
   "metadata": {},
   "outputs": [],
   "source": [
    "for match in re.finditer('Ser Waymar', text):\n",
    "    print(match.group(), match.span())"
   ]
  },
  {
   "cell_type": "code",
   "execution_count": null,
   "metadata": {},
   "outputs": [],
   "source": [
    "Counter(re.findall('[A-Z][a-z]* [A-Z][a-z]*', text)).most_common(10)"
   ]
  },
  {
   "cell_type": "markdown",
   "metadata": {},
   "source": [
    "## Streamlit"
   ]
  },
  {
   "cell_type": "markdown",
   "metadata": {},
   "source": [
    "Very quickly growing framework, earning more GitHub stars (20k) than any other data app framework, in three years."
   ]
  },
  {
   "cell_type": "markdown",
   "metadata": {},
   "source": [
    "Why streamlit?\n",
    "- it is easy to use\n",
    "- clean and well defined documentation\n",
    "- streamlit re-runs the whole Python script whenever any app state changes. This enables an impressive level of interactivity without the need for custom callback functions. Widget objects in the code just work; they take whatever value the user chooses in the live app.\n",
    "- very easy to start with, and it is easy to add more advanced features as you go\n",
    "- Documentation: https://streamlit.io\n",
    "- Browse the gallery: https://streamlit.io/gallery"
   ]
  },
  {
   "cell_type": "markdown",
   "metadata": {},
   "source": [
    "## Flask"
   ]
  },
  {
   "cell_type": "markdown",
   "metadata": {},
   "source": [
    "- The documentation: https://flask.palletsprojects.com/en/2.2.x/quickstart/\n",
    "- Flask is a native python microframework for writing web applications"
   ]
  },
  {
   "cell_type": "code",
   "execution_count": null,
   "metadata": {},
   "outputs": [],
   "source": [
    "# test the flask service\n",
    "import requests\n",
    "\n",
    "response = requests.get(\"http://localhost:5004/hello?name=Jon\")\n",
    "\n",
    "response = requests.get(\"http://localhost:5004/get_data\")\n",
    "\n",
    "response = requests.post(\"http://localhost:5004/add_data\", json={\"key\": \"Jon\", \"value\": 1})\n",
    "\n",
    "response = requests.get(\"http://localhost:5004/get_data\")\n",
    "\n",
    "print(response.content)"
   ]
  },
  {
   "cell_type": "markdown",
   "metadata": {},
   "source": []
  },
  {
   "cell_type": "code",
   "execution_count": null,
   "metadata": {},
   "outputs": [],
   "source": []
  }
 ],
 "metadata": {
  "kernelspec": {
   "display_name": "Python 3.9.12 ('base')",
   "language": "python",
   "name": "python3"
  },
  "language_info": {
   "codemirror_mode": {
    "name": "ipython",
    "version": 3
   },
   "file_extension": ".py",
   "mimetype": "text/x-python",
   "name": "python",
   "nbconvert_exporter": "python",
   "pygments_lexer": "ipython3",
   "version": "3.9.12"
  },
  "vscode": {
   "interpreter": {
    "hash": "1850a4ce1bcecc23346ea02430b7ccfb43be8729d8f4c18ece77353ce9c0ed2e"
   }
  }
 },
 "nbformat": 4,
 "nbformat_minor": 2
}
